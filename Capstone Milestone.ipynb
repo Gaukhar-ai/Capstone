{
 "cells": [
  {
   "cell_type": "markdown",
   "metadata": {},
   "source": [
    "# Various Stock Market Analyses\n",
    "\n",
    "The S&P 500 is traditionally divided into 11 sectors and traders all over the globe try their best to buy low and sell high. For simplicity, I will ignore the option to short stocks. Trading styles range from traders who sit on the computer all day trying to quickly find 1-2% profits as often as possible all the way to investors who simply \"set it and forget it.\" In my project I plan to explore 3 questions: \n",
    "\n",
    "-  How reliable is the Fisher Transform indicator for daily price reversals? I will use visualizaton and probability in my approach.\n",
    "-  What portfolio allocations in regards to sectors yields the highest returns? I will use Sharpe Ratios and other Markowitz protfolio metrics in my approach.\n",
    "-  Do the traditional market sectors actually cluster stocks efficiently according to price? Can we make portfolio allocations based off of these new clusters? I will use K-Means clustering in my approach.\n",
    "\n",
    "My clients are anyone looking to make better decisions when trading or investing in the stock market. \n",
    "\n",
    "I have a total of 36 datasets. They are time series datasets with a start date of 04-29-2013 and an end date of 01-09-2019.\n",
    "-  A dataset for each sector containing the _prices_ of 8 - 10 stocks from their respective sectors (11 datasets)\n",
    "-  A dataset containing the _prices_ of all chosen stocks in all sectors (1 dataset)\n",
    "-  A dataset for each sector containing the _returns_ of 8 - 10 stocks from their respective sectors (11 datasets)\n",
    "-  A dataset containing the _returns_ of all chosen stocks in all sectors (1 dataset)\n",
    "-  A dataset for each sector containing the daily volume, open price, close price, low price, and high price for 8 -10 stocks from their respective sectors (11 datasets)\n",
    "-  A dataset containing the daily volume, open price, close price, low price, and high price for all chosen stocks in all sectors (1 dataset)\n",
    "\n",
    "I selected the stocks based off volume on a random day. I filtered each sector from the S&P 500 by volume in descending order. I then chose the top 10 highest volume stocks from each sector for that day. In order to clean up the data, I had to drop 1 stock from the consumer staples sector, 1 stock from the communcations sector, and 2 stocks from the real estate sector. These stocks were not traded during the entire time of interest and were missing several months of data. I acquired my data through the api from Tiingo.com using pandas_datareader.data. I used the pivot, concat, and drop functions to name a few. I also used the pct_change() method to calculate returns where necessary and a for loop to quickly identify missing values."
   ]
  },
  {
   "cell_type": "markdown",
   "metadata": {},
   "source": [
    "# Outline of Presentation\n",
    "\n",
    "## Introduction\n",
    "\n",
    "-  Describe stock market sectors\n",
    "-  Briefly discuss the role Data Science has played in the stock market\n",
    "-  Introduce the three questions/topics of interest\n",
    "\n",
    "## I. Fisher Transform Study\n",
    "\n",
    "-  Brief description of Fisher Transform, its uses, and limitations in active trading\n",
    "-  Provide visualiztions and metrics \n",
    "-  Report accuracy of findings\n",
    "\n",
    "## II. Portfolio Study\n",
    "\n",
    "-  Finding diversified portfolios for long term holds\n",
    "-  Discuss and apply Sharpe Ratio, Efficient Frontier, MSR, GMV\n",
    "-  Which portfolio allocation is best?\n",
    "\n",
    "## III. Clustering\n",
    "\n",
    "-  Do traditional market sectors cluster stocks efficiently according to price?\n",
    "-  Discuss and implement KMeans clustering \n",
    "-  Did we find any new clusters? Will using these clusters yield greater returns?\n",
    "\n",
    "## Conclusion\n",
    "\n",
    "-  Revist approaches and findings\n",
    "-  Where can we go from here?"
   ]
  },
  {
   "cell_type": "code",
   "execution_count": null,
   "metadata": {},
   "outputs": [],
   "source": []
  }
 ],
 "metadata": {
  "kernelspec": {
   "display_name": "Python 3",
   "language": "python",
   "name": "python3"
  },
  "language_info": {
   "codemirror_mode": {
    "name": "ipython",
    "version": 3
   },
   "file_extension": ".py",
   "mimetype": "text/x-python",
   "name": "python",
   "nbconvert_exporter": "python",
   "pygments_lexer": "ipython3",
   "version": "3.7.0"
  }
 },
 "nbformat": 4,
 "nbformat_minor": 2
}
